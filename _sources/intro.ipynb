{
 "cells": [
  {
   "cell_type": "markdown",
   "id": "be11fb4e",
   "metadata": {},
   "source": [
    "Linear Algebra Problem Book\n",
    "============================================\n",
    "\n",
    "Introduction\n",
    "------- \n",
    "\n",
    "In around May 2021, after about 6 years graduating college and joining the corporate world, I found myself missing doing some math. I began picking up some textbooks and made it a habit of solving at least one exercise every week (often month). This book is part $1$ of the collection of problems solved by [me](https://zul.rocks/about), focusing on linear algebra. Tentatively, part $2$ will be on real analysis and part $3$ on partial differential equations.\n",
    "\n",
    "\n",
    "Table of Contents\n",
    "------- \n",
    "\n",
    "```{tableofcontents}\n",
    "```"
   ]
  }
 ],
 "metadata": {
  "jupytext": {
   "text_representation": {
    "extension": ".md",
    "format_name": "myst"
   }
  },
  "kernelspec": {
   "display_name": "Python 3",
   "language": "python",
   "name": "python3"
  },
  "language_info": {
   "codemirror_mode": {
    "name": "ipython",
    "version": 3
   },
   "file_extension": ".py",
   "mimetype": "text/x-python",
   "name": "python",
   "nbconvert_exporter": "python",
   "pygments_lexer": "ipython3",
   "version": "3.9.12"
  },
  "source_map": [
   10
  ]
 },
 "nbformat": 4,
 "nbformat_minor": 5
}