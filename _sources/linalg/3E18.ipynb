{
 "cells": [
  {
   "cell_type": "markdown",
   "id": "9d15fe22",
   "metadata": {},
   "source": [
    "(myst-content/proofs-algorithms)=\n",
    "# Problem 11: There exists $S \\in \\mathcal{L}(V/U,W)$ such that $T = S\\circ\\pi$ iff $U \\subset \\text{null }T$ \n",
    "\n",
    "```{admonition} Problem 11\n",
    "Suppose $T \\in \\mathcal{L}(V,W)$ and $U$ is a subspace of $V$. Let $\\pi$ denote the quotient map from $V$ onto $V/U.$ Prove that there exists $S \\in \\mathcal{L}(V/U,W)$ such that $T = S\\circ\\pi$ if and only if $U \\subset \\text{null }T.$\n",
    "```\n",
    "\n",
    "\n",
    "\n",
    "```{admonition} Solution\n",
    ":class: hint, dropdown\n",
    "\n",
    "![3E18](../images/3E18.pdf)\n",
    "\n",
    "```\n",
    "\n",
    "\n",
    "_Source: Axler (3rd edition):  Exercise 3E18._"
   ]
  }
 ],
 "metadata": {
  "jupytext": {
   "text_representation": {
    "extension": ".md",
    "format_name": "myst"
   }
  },
  "kernelspec": {
   "display_name": "Python 3",
   "language": "python",
   "name": "python3"
  },
  "language_info": {
   "codemirror_mode": {
    "name": "ipython",
    "version": 3
   },
   "file_extension": ".py",
   "mimetype": "text/x-python",
   "name": "python",
   "nbconvert_exporter": "python",
   "pygments_lexer": "ipython3",
   "version": "3.9.12"
  },
  "source_map": [
   10
  ]
 },
 "nbformat": 4,
 "nbformat_minor": 5
}