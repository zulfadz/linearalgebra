{
 "cells": [
  {
   "cell_type": "markdown",
   "id": "f9e5e040",
   "metadata": {},
   "source": [
    "(myst-content/proofs-algorithms)=\n",
    "# Problem 34: $W^{0} \\subset U^{0}$\n",
    "\n",
    "```{admonition} Problem 34\n",
    "Suppose $U$ and $W$ are subsets of $V$ with $U \\subset W.$ Prove that $W^{0} \\subset U^{0}.$\n",
    "```\n",
    "\n",
    "\n",
    "\n",
    "```{admonition} Solution\n",
    ":class: hint, dropdown\n",
    "\n",
    "![3F20](../images/3F20.pdf)\n",
    "```\n",
    "\n",
    "\n",
    "_Source: Axler (3rd edition):  Excercise 3F20._"
   ]
  }
 ],
 "metadata": {
  "jupytext": {
   "text_representation": {
    "extension": ".md",
    "format_name": "myst"
   }
  },
  "kernelspec": {
   "display_name": "Python 3",
   "language": "python",
   "name": "python3"
  },
  "language_info": {
   "codemirror_mode": {
    "name": "ipython",
    "version": 3
   },
   "file_extension": ".py",
   "mimetype": "text/x-python",
   "name": "python",
   "nbconvert_exporter": "python",
   "pygments_lexer": "ipython3",
   "version": "3.9.12"
  },
  "source_map": [
   10
  ]
 },
 "nbformat": 4,
 "nbformat_minor": 5
}