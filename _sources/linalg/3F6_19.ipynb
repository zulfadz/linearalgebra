{
 "cells": [
  {
   "cell_type": "markdown",
   "id": "414f8c20",
   "metadata": {},
   "source": [
    "(myst-content/proofs-algorithms)=\n",
    "# Problem 19: Properties of $\\Gamma(\\phi) = (\\phi(v_{1}, \\cdots, \\phi(v_{m}))$\n",
    "\n",
    "```{admonition} Problem 19\n",
    "Suppose $V$ is finite-dimensional and $v_{1},\\cdots,v_{m} \\in V$. Define a linear map $\\Gamma: V^{\\prime} \\rightarrow \\mathbb{F}^{m}$ by\n",
    "\n",
    "$\\Gamma(\\phi) = (\\phi(v_{1}, \\cdots, \\phi(v_{m})))$.\n",
    "\n",
    "a) Prove that $v_{1}, \\cdots, v_{m}$ spans $V$ if and only if $\\Gamma$ is injective.\n",
    "\n",
    "b) Prove that $v_{1}, \\cdots, v_{m}$ is linearly independent if and only if $\\Gamma$ is surjective.\n",
    "```\n",
    "\n",
    "\n",
    "\n",
    "```{admonition} Solution\n",
    ":class: hint, dropdown\n",
    "\n",
    "![3F6a](../images/3F6a.pdf)\n",
    "![3F6b](../images/3F6b.pdf)\n",
    "![3F6c](../images/3F6c.pdf)\n",
    "![3F6d](../images/3F6d.pdf)\n",
    "```\n",
    "\n",
    "\n",
    "_Source: Axler (3rd edition):  Exercise 3F6._"
   ]
  }
 ],
 "metadata": {
  "jupytext": {
   "text_representation": {
    "extension": ".md",
    "format_name": "myst"
   }
  },
  "kernelspec": {
   "display_name": "Python 3",
   "language": "python",
   "name": "python3"
  },
  "language_info": {
   "codemirror_mode": {
    "name": "ipython",
    "version": 3
   },
   "file_extension": ".py",
   "mimetype": "text/x-python",
   "name": "python",
   "nbconvert_exporter": "python",
   "pygments_lexer": "ipython3",
   "version": "3.9.12"
  },
  "source_map": [
   10
  ]
 },
 "nbformat": 4,
 "nbformat_minor": 5
}