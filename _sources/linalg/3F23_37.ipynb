{
 "cells": [
  {
   "cell_type": "markdown",
   "id": "38f717f9",
   "metadata": {},
   "source": [
    "(myst-content/proofs-algorithms)=\n",
    "# Problem 37: $(U \\cap W)^{0} = U^{0} + W^{0}$\n",
    "\n",
    "```{admonition} Problem 37\n",
    "Suppose $V$ is finite-dimensional and $U$ and $W$ are subspaces of $V.$ Prove that $(U \\cap W)^{0} = U^{0} + W^{0}.$\n",
    "```\n",
    "\n",
    "\n",
    "\n",
    "```{admonition} Solution\n",
    ":class: hint, dropdown\n",
    "\n",
    "![3F23a](../images/3F23a.pdf)\n",
    "![3F23b](../images/3F23b.pdf)\n",
    "```\n",
    "\n",
    "\n",
    "_Source: Axler (3rd edition):  Excercise 3F23._"
   ]
  }
 ],
 "metadata": {
  "jupytext": {
   "text_representation": {
    "extension": ".md",
    "format_name": "myst"
   }
  },
  "kernelspec": {
   "display_name": "Python 3",
   "language": "python",
   "name": "python3"
  },
  "language_info": {
   "codemirror_mode": {
    "name": "ipython",
    "version": 3
   },
   "file_extension": ".py",
   "mimetype": "text/x-python",
   "name": "python",
   "nbconvert_exporter": "python",
   "pygments_lexer": "ipython3",
   "version": "3.9.12"
  },
  "source_map": [
   10
  ]
 },
 "nbformat": 4,
 "nbformat_minor": 5
}