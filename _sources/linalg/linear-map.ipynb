{
 "cells": [
  {
   "cell_type": "markdown",
   "id": "79cdecf4",
   "metadata": {},
   "source": [
    "# Linear maps, null space, range\n",
    "\n",
    "In this section, we will cover problems relating to linear maps. Key concepts include null space, range space and fundamental theorem of linear maps.\n",
    "\n",
    "\n",
    "$\\text{Linear Maps: Table of Contents}$\n",
    "------- \n",
    "```{tableofcontents}\n",
    "```"
   ]
  }
 ],
 "metadata": {
  "jupytext": {
   "text_representation": {
    "extension": ".md",
    "format_name": "myst"
   }
  },
  "kernelspec": {
   "display_name": "Python 3",
   "language": "python",
   "name": "python3"
  },
  "language_info": {
   "codemirror_mode": {
    "name": "ipython",
    "version": 3
   },
   "file_extension": ".py",
   "mimetype": "text/x-python",
   "name": "python",
   "nbconvert_exporter": "python",
   "pygments_lexer": "ipython3",
   "version": "3.9.12"
  },
  "source_map": [
   10
  ]
 },
 "nbformat": 4,
 "nbformat_minor": 5
}