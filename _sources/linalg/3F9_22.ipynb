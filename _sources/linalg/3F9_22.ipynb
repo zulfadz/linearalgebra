{
 "cells": [
  {
   "cell_type": "markdown",
   "id": "f397b23c",
   "metadata": {},
   "source": [
    "(myst-content/proofs-algorithms)=\n",
    "# Problem 22: $\\Psi = \\Psi(v_{1})\\phi_{1} + \\cdots + \\Psi(v_{n})\\phi_{n}$\n",
    "\n",
    "```{admonition} Problem 22\n",
    "Suppose $v_{1}, \\cdots, v_{n}$ is a basis of $V$ and $\\phi_{1}, \\cdots, \\phi_{n}$ is the corresponding dual basis of $V^{\\prime}$. Suppose $\\Psi \\in V^{\\prime}$. Prove that\n",
    "\n",
    "$\\Psi = \\Psi(v_{1})\\phi_{1} + \\cdots + \\Psi(v_{n})\\phi_{n}.$\n",
    "```\n",
    "\n",
    "\n",
    "\n",
    "```{admonition} Solution\n",
    ":class: hint, dropdown\n",
    "\n",
    "![3F9](../images/3F9.pdf)\n",
    "\n",
    "\n",
    "```\n",
    "\n",
    "\n",
    "_Source: Axler (3rd edition):  Exercise 3F9._"
   ]
  }
 ],
 "metadata": {
  "jupytext": {
   "text_representation": {
    "extension": ".md",
    "format_name": "myst"
   }
  },
  "kernelspec": {
   "display_name": "Python 3",
   "language": "python",
   "name": "python3"
  },
  "language_info": {
   "codemirror_mode": {
    "name": "ipython",
    "version": 3
   },
   "file_extension": ".py",
   "mimetype": "text/x-python",
   "name": "python",
   "nbconvert_exporter": "python",
   "pygments_lexer": "ipython3",
   "version": "3.9.12"
  },
  "source_map": [
   10
  ]
 },
 "nbformat": 4,
 "nbformat_minor": 5
}