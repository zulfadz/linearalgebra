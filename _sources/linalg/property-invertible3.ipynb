{
 "cells": [
  {
   "cell_type": "markdown",
   "id": "5cd32a08",
   "metadata": {},
   "source": [
    "(myst-content/proofs-algorithms)=\n",
    "# Problem 4: Some property of invertible operator (2)\n",
    "\n",
    "```{admonition} Problem 4\n",
    "Suppose $W$ is finite-dimensional and $T_{1}, T_{2} \\in \\mathcal{L}(V,W)$, where $\\mathcal{L}(V,W)$ indicates the set of linear maps from vector space $V$ to $W$. Prove that $\\text{null } T_{1} = \\text{null } T_{2}$ if and only if there exists an invertible operator $S \\in \\mathcal{L}(W)$ such that $T_{1}=ST_{2}$.\n",
    "\n",
    "```\n",
    "\n",
    "\n",
    "\n",
    "```{admonition} Solution\n",
    ":class: hint, dropdown\n",
    "\n",
    "Let $v_{1}, \\cdots, v_{n}$ be the basis of $V$.\n",
    "\n",
    "\n",
    "```\n",
    "\n",
    "\n",
    "_Source: Axler (3rd edition):  Exercise 3D4._"
   ]
  }
 ],
 "metadata": {
  "jupytext": {
   "text_representation": {
    "extension": ".md",
    "format_name": "myst"
   }
  },
  "kernelspec": {
   "display_name": "Python 3",
   "language": "python",
   "name": "python3"
  },
  "language_info": {
   "codemirror_mode": {
    "name": "ipython",
    "version": 3
   },
   "file_extension": ".py",
   "mimetype": "text/x-python",
   "name": "python",
   "nbconvert_exporter": "python",
   "pygments_lexer": "ipython3",
   "version": "3.9.12"
  },
  "source_map": [
   10
  ]
 },
 "nbformat": 4,
 "nbformat_minor": 5
}