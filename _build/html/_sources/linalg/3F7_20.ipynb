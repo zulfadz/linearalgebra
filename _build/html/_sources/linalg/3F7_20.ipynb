{
 "cells": [
  {
   "cell_type": "markdown",
   "id": "3570f41f",
   "metadata": {},
   "source": [
    "(myst-content/proofs-algorithms)=\n",
    "# Problem 20: Dual basis of polynomial\n",
    "\n",
    "```{admonition} Problem 20\n",
    "Suppose $m$ is a positive integer. Show that the dual basis of the basis $1,x,\\cdots, x_{m}$ of $\\mathcal{P}_m(\\mathbb{R})$ is $\\phi_{0}, \\phi_{1}, \\cdots, \\phi_{m}$, where $\\phi_{j}(p) = \\frac{p^{(j)}(0)}{j!}.$ Here $p^{(j)}$ denotes the $j^{\\text{th}}$ derivative of $p$, with the understanding that the $0^{\\text{th}}$ derivative of $p$ is $p$.\n",
    "```\n",
    "\n",
    "\n",
    "\n",
    "```{admonition} Solution\n",
    ":class: hint, dropdown\n",
    "\n",
    "![3F7a](../images/3F7a.pdf)\n",
    "![3F7b](../images/3F7b.pdf)\n",
    "\n",
    "\n",
    "```\n",
    "\n",
    "\n",
    "_Source: Axler (3rd edition):  Exercise 3F7._"
   ]
  }
 ],
 "metadata": {
  "jupytext": {
   "text_representation": {
    "extension": ".md",
    "format_name": "myst"
   }
  },
  "kernelspec": {
   "display_name": "Python 3",
   "language": "python",
   "name": "python3"
  },
  "language_info": {
   "codemirror_mode": {
    "name": "ipython",
    "version": 3
   },
   "file_extension": ".py",
   "mimetype": "text/x-python",
   "name": "python",
   "nbconvert_exporter": "python",
   "pygments_lexer": "ipython3",
   "version": "3.9.12"
  },
  "source_map": [
   10
  ]
 },
 "nbformat": 4,
 "nbformat_minor": 5
}