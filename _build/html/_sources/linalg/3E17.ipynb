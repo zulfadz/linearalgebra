{
 "cells": [
  {
   "cell_type": "markdown",
   "id": "29ea717b",
   "metadata": {},
   "source": [
    "(myst-content/proofs-algorithms)=\n",
    "# Problem 10: Given finite dimensional $\\text{dim }V/U$, there exists subspace $W$ such that $\\text{dim }W=\\text{dim }V/U$ and $V = U \\oplus W$ \n",
    "\n",
    "```{admonition} Problem 10\n",
    "Suppose $U$ is a subspace of $V$ such that $\\text{dim }V/U$ is finite-dimensional. Prove that there exists a subspace $W$ of $V$ such that $\\text{dim }W=\\text{dim }V/U$ and $V = U \\oplus W.$ \n",
    "\n",
    "```\n",
    "\n",
    "\n",
    "\n",
    "```{admonition} Solution\n",
    ":class: hint, dropdown\n",
    "\n",
    "![3E17a](../images/3E17a.pdf)\n",
    "![3E17b](../images/3E17b.pdf)\n",
    "![3E17c](../images/3E17c.pdf)\n",
    "![3E17d](../images/3E17d.pdf)\n",
    "![3E17e](../images/3E17e.pdf)\n",
    "```\n",
    "\n",
    "\n",
    "_Source: Axler (3rd edition):  Exercise 3E17._"
   ]
  }
 ],
 "metadata": {
  "jupytext": {
   "text_representation": {
    "extension": ".md",
    "format_name": "myst"
   }
  },
  "kernelspec": {
   "display_name": "Python 3",
   "language": "python",
   "name": "python3"
  },
  "language_info": {
   "codemirror_mode": {
    "name": "ipython",
    "version": 3
   },
   "file_extension": ".py",
   "mimetype": "text/x-python",
   "name": "python",
   "nbconvert_exporter": "python",
   "pygments_lexer": "ipython3",
   "version": "3.9.12"
  },
  "source_map": [
   10
  ]
 },
 "nbformat": 4,
 "nbformat_minor": 5
}