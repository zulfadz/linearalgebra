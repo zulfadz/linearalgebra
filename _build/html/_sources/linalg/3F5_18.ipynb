{
 "cells": [
  {
   "cell_type": "markdown",
   "id": "5683c4be",
   "metadata": {},
   "source": [
    "(myst-content/proofs-algorithms)=\n",
    "# Problem 18: $(V_{1} \\times \\cdots V_{m})^{\\prime}$ and $V_{1}^{\\prime} \\times \\cdots V_{m}^{\\prime}$ are isomorphic \n",
    "\n",
    "```{admonition} Problem 18\n",
    "Suppose $V_{1}, \\cdots, V_{m}$ are vector spaces. Prove that $(V_{1} \\times \\cdots V_{m})^{\\prime}$ and $V_{1}^{\\prime} \\times \\cdots V_{m}^{\\prime}$ are isomorphic vector spaces.\n",
    "```\n",
    "\n",
    "\n",
    "\n",
    "```{admonition} Solution\n",
    ":class: hint, dropdown\n",
    "\n",
    "![3F5a](../images/3F5a.pdf)\n",
    "![3F5b](../images/3F5b.pdf)\n",
    "![3F5c](../images/3F5c.pdf)\n",
    "![3F5d](../images/3F5d.pdf)\n",
    "![3F5e](../images/3F5e.pdf)\n",
    "```\n",
    "\n",
    "\n",
    "_Source: Axler (3rd edition):  Exercise 3F5._"
   ]
  }
 ],
 "metadata": {
  "jupytext": {
   "text_representation": {
    "extension": ".md",
    "format_name": "myst"
   }
  },
  "kernelspec": {
   "display_name": "Python 3",
   "language": "python",
   "name": "python3"
  },
  "language_info": {
   "codemirror_mode": {
    "name": "ipython",
    "version": 3
   },
   "file_extension": ".py",
   "mimetype": "text/x-python",
   "name": "python",
   "nbconvert_exporter": "python",
   "pygments_lexer": "ipython3",
   "version": "3.9.12"
  },
  "source_map": [
   10
  ]
 },
 "nbformat": 4,
 "nbformat_minor": 5
}