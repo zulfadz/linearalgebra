{
 "cells": [
  {
   "cell_type": "markdown",
   "id": "4e406151",
   "metadata": {},
   "source": [
    "(myst-content/proofs-algorithms)=\n",
    "# Problem 5: Invertible operator with special property exists iff certain conditions on range spaces are satisfied\n",
    "\n",
    "```{admonition} Problem 5\n",
    "Suppose $V$ is finite-dimensional and $T_{1}, T_{2} \\in \\mathcal{L}(V,W)$, where $\\mathcal{L}(V,W)$ indicates the set of linear maps from vector space $V$ to $W$. Prove that $\\text{range } T_{1} = \\text{range } T_{2}$ if and only if there exists an invertible operator $S \\in \\mathcal{L}(V)$ such that $T_{1}=T_{2}S$.\n",
    "\n",
    "```\n",
    "\n",
    "\n",
    "\n",
    "```{admonition} Solution\n",
    ":class: hint, dropdown\n",
    "\n",
    "Todo\n",
    "\n",
    "```\n",
    "\n",
    "\n",
    "_Source: Axler (3rd edition):  Exercise 3D5._"
   ]
  }
 ],
 "metadata": {
  "jupytext": {
   "text_representation": {
    "extension": ".md",
    "format_name": "myst"
   }
  },
  "kernelspec": {
   "display_name": "Python 3",
   "language": "python",
   "name": "python3"
  },
  "language_info": {
   "codemirror_mode": {
    "name": "ipython",
    "version": 3
   },
   "file_extension": ".py",
   "mimetype": "text/x-python",
   "name": "python",
   "nbconvert_exporter": "python",
   "pygments_lexer": "ipython3",
   "version": "3.9.12"
  },
  "source_map": [
   10
  ]
 },
 "nbformat": 4,
 "nbformat_minor": 5
}