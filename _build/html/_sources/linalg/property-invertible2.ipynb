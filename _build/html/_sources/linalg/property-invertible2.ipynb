{
 "cells": [
  {
   "cell_type": "markdown",
   "id": "2fc10e60",
   "metadata": {},
   "source": [
    "(myst-content/proofs-algorithms)=\n",
    "# Problem 3: Some property of invertible operator (1)\n",
    "\n",
    "```{admonition} Problem 3\n",
    "Suppose $V$ is finite-dimensional, $U$ is a subspace of $V$, and $S \\in \\mathcal{L}(U,V)$. Prove there exists an invertible operator $T \\in \\mathcal{L}(V)$ such that $Tu=Su$ for every $u\\in U$ if and only if $S$ is injective.\n",
    "\n",
    "```\n",
    "\n",
    "\n",
    "\n",
    "```{admonition} Solution\n",
    ":class: hint, dropdown\n",
    "\n",
    "Let $v_{1}, \\cdots, v_{n}$ be the basis of $V$.\n",
    "\n",
    "\n",
    "```\n",
    "\n",
    "\n",
    "_Source: Axler (3rd edition):  Exercise 3D3._"
   ]
  }
 ],
 "metadata": {
  "jupytext": {
   "text_representation": {
    "extension": ".md",
    "format_name": "myst"
   }
  },
  "kernelspec": {
   "display_name": "Python 3",
   "language": "python",
   "name": "python3"
  },
  "language_info": {
   "codemirror_mode": {
    "name": "ipython",
    "version": 3
   },
   "file_extension": ".py",
   "mimetype": "text/x-python",
   "name": "python",
   "nbconvert_exporter": "python",
   "pygments_lexer": "ipython3",
   "version": "3.9.12"
  },
  "source_map": [
   10
  ]
 },
 "nbformat": 4,
 "nbformat_minor": 5
}