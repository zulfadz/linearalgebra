{
 "cells": [
  {
   "cell_type": "markdown",
   "id": "5d05c339",
   "metadata": {},
   "source": [
    "(myst-content/proofs-algorithms)=\n",
    "# Problem 7: $\\mathbb F^{\\infty}/U$ is infinite-dimensional\n",
    "\n",
    "```{admonition} Problem 7\n",
    "Suppose $U = \\{(x_{1}, x_{2}, \\cdots) \\in \\mathbb F^{\\infty}: x_{j} \\neq 0 \\text{ for only finitely many j} \\}.$\n",
    "\n",
    "(a) Show that $U$ is a subspace of $\\mathbb F^{\\infty}.$\n",
    "\n",
    "(b) Prove that $\\mathbb F^{\\infty}/U$ is infinite-dimensional.\n",
    "\n",
    "```\n",
    "\n",
    "\n",
    "\n",
    "```{admonition} Solution\n",
    ":class: hint, dropdown\n",
    "\n",
    "![3E14a](../images/3E14a.pdf)\n",
    "![3E14](../images/3E14.pdf)\n",
    "\n",
    "```\n",
    "\n",
    "\n",
    "_Source: Axler (3rd edition):  Exercise 3E14._"
   ]
  }
 ],
 "metadata": {
  "jupytext": {
   "text_representation": {
    "extension": ".md",
    "format_name": "myst"
   }
  },
  "kernelspec": {
   "display_name": "Python 3",
   "language": "python",
   "name": "python3"
  },
  "language_info": {
   "codemirror_mode": {
    "name": "ipython",
    "version": 3
   },
   "file_extension": ".py",
   "mimetype": "text/x-python",
   "name": "python",
   "nbconvert_exporter": "python",
   "pygments_lexer": "ipython3",
   "version": "3.9.12"
  },
  "source_map": [
   10
  ]
 },
 "nbformat": 4,
 "nbformat_minor": 5
}