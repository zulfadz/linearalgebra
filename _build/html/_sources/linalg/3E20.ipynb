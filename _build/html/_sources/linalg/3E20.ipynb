{
 "cells": [
  {
   "cell_type": "markdown",
   "id": "c3f3cf30",
   "metadata": {},
   "source": [
    "(myst-content/proofs-algorithms)=\n",
    "# Problem 13: Application of problem 11\n",
    "\n",
    "```{admonition} Problem 13\n",
    "Suppose $U$ is a subspace of $V.$ Define $\\Gamma : \\mathcal{L}(V/U,W) \\rightarrow \\mathcal{L}(V,W)$ by $\\Gamma(S) = S\\pi.$\n",
    "\n",
    "- Show that $\\Gamma$ is a linear map.\n",
    "- Show that $\\Gamma$ is injective.\n",
    "- Show that range $\\Gamma = \\{ T \\in \\mathcal{L}(V,W): Tu = 0 \\text{ for every } u \\in U\\}.$\n",
    "\n",
    "```\n",
    "\n",
    "\n",
    "\n",
    "```{admonition} Solution\n",
    ":class: hint, dropdown\n",
    "\n",
    "![3E20a](../images/3E20a.pdf)\n",
    "![3E20b](../images/3E20b.pdf)\n",
    "![3E20c](../images/3E20c.pdf)\n",
    "```\n",
    "\n",
    "\n",
    "_Source: Axler (3rd edition):  Exercise 3E20._"
   ]
  }
 ],
 "metadata": {
  "jupytext": {
   "text_representation": {
    "extension": ".md",
    "format_name": "myst"
   }
  },
  "kernelspec": {
   "display_name": "Python 3",
   "language": "python",
   "name": "python3"
  },
  "language_info": {
   "codemirror_mode": {
    "name": "ipython",
    "version": 3
   },
   "file_extension": ".py",
   "mimetype": "text/x-python",
   "name": "python",
   "nbconvert_exporter": "python",
   "pygments_lexer": "ipython3",
   "version": "3.9.12"
  },
  "source_map": [
   10
  ]
 },
 "nbformat": 4,
 "nbformat_minor": 5
}