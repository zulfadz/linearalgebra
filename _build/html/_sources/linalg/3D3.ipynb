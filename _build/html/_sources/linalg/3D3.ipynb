{
 "cells": [
  {
   "cell_type": "markdown",
   "id": "73e769f6",
   "metadata": {},
   "source": [
    "(myst-content/proofs-algorithms)=\n",
    "# Problem 3: Invertible operator on $V$ exists iff linear map from its subspace is injective\n",
    "\n",
    "```{admonition} Problem 3\n",
    "Suppose $V$ is finite-dimensional, $U$ is a subspace of $V$, and $S \\in \\mathcal{L}(U,V)$. Prove there exists an invertible operator $T \\in \\mathcal{L}(V)$ such that $Tu=Su$ for every $u\\in U$ if and only if $S$ is injective.\n",
    "\n",
    "```\n",
    "\n",
    "\n",
    "\n",
    "```{admonition} Solution\n",
    ":class: hint, dropdown\n",
    "\n",
    "Todo\n",
    "\n",
    "```\n",
    "\n",
    "\n",
    "_Source: Axler (3rd edition):  Exercise 3D3._"
   ]
  }
 ],
 "metadata": {
  "jupytext": {
   "text_representation": {
    "extension": ".md",
    "format_name": "myst"
   }
  },
  "kernelspec": {
   "display_name": "Python 3",
   "language": "python",
   "name": "python3"
  },
  "language_info": {
   "codemirror_mode": {
    "name": "ipython",
    "version": 3
   },
   "file_extension": ".py",
   "mimetype": "text/x-python",
   "name": "python",
   "nbconvert_exporter": "python",
   "pygments_lexer": "ipython3",
   "version": "3.9.12"
  },
  "source_map": [
   10
  ]
 },
 "nbformat": 4,
 "nbformat_minor": 5
}