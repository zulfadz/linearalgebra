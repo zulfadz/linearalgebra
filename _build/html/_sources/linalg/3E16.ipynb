{
 "cells": [
  {
   "cell_type": "markdown",
   "id": "195d1341",
   "metadata": {},
   "source": [
    "(myst-content/proofs-algorithms)=\n",
    "# Problem 9: Given $\\text{dim }V/U=1$, there exists $\\phi \\in \\mathcal{L}(V, \\mathbb F), \\text{null }\\phi = U$\n",
    "\n",
    "```{admonition} Problem 9\n",
    "Suppose $U$ is a subspace of $V$ such that $\\text{dim }V/U=1.$ Prove that there exists $\\phi \\in \\mathcal{L}(V,\\mathbb F)$ such that $\\text{null }\\phi = U.$\n",
    "\n",
    "```\n",
    "\n",
    "\n",
    "\n",
    "```{admonition} Solution\n",
    ":class: hint, dropdown\n",
    "\n",
    "![3E16a](../images/3E16a.pdf)\n",
    "![3E16b](../images/3E16b.pdf)\n",
    "![3E16c](../images/3E16c.pdf)\n",
    "![3E16d](../images/3E16d.pdf)\n",
    "```\n",
    "\n",
    "\n",
    "_Source: Axler (3rd edition):  Exercise 3E16._"
   ]
  }
 ],
 "metadata": {
  "jupytext": {
   "text_representation": {
    "extension": ".md",
    "format_name": "myst"
   }
  },
  "kernelspec": {
   "display_name": "Python 3",
   "language": "python",
   "name": "python3"
  },
  "language_info": {
   "codemirror_mode": {
    "name": "ipython",
    "version": 3
   },
   "file_extension": ".py",
   "mimetype": "text/x-python",
   "name": "python",
   "nbconvert_exporter": "python",
   "pygments_lexer": "ipython3",
   "version": "3.9.12"
  },
  "source_map": [
   10
  ]
 },
 "nbformat": 4,
 "nbformat_minor": 5
}