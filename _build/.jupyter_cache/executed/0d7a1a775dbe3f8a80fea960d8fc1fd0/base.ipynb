{
 "cells": [
  {
   "cell_type": "code",
   "execution_count": 1,
   "id": "fad7ddbe",
   "metadata": {
    "tags": [
     "remove-input"
    ]
   },
   "outputs": [
    {
     "name": "stdout",
     "output_type": "stream",
     "text": [
      "Usage: jupyter-book toc from-project [OPTIONS] SITE_DIR\r\n",
      "\r\n",
      "  Create a ToC file from a project directory.\r\n",
      "\r\n",
      "Options:\r\n",
      "  -e, --extension TEXT            File extensions to consider as documents\r\n",
      "                                  (use multiple times)  [default: .rst, .md]\r\n",
      "\r\n",
      "  -i, --index TEXT                File name (without suffix) considered as the\r\n",
      "                                  index file in a folder  [default: index]\r\n",
      "\r\n",
      "  -s, --skip-match TEXT           File/Folder names which match will be\r\n",
      "                                  ignored (use multiple times)  [default: .*]\r\n",
      "\r\n",
      "  -t, --guess-titles              Guess titles of documents from path names\r\n",
      "  -f, --file-format [default|jb-book|jb-article]\r\n",
      "                                  The key-mappings to use.  [default: default]\r\n",
      "  -h, --help                      Show this message and exit.\r\n"
     ]
    }
   ],
   "source": [
    "!jupyter-book toc from-project -h"
   ]
  }
 ],
 "metadata": {
  "jupytext": {
   "formats": "md:myst",
   "text_representation": {
    "extension": ".md",
    "format_name": "myst",
    "format_version": 0.12,
    "jupytext_version": "1.6.0"
   }
  },
  "kernelspec": {
   "display_name": "Python 3",
   "language": "python",
   "name": "python3"
  },
  "language_info": {
   "codemirror_mode": {
    "name": "ipython",
    "version": 3
   },
   "file_extension": ".py",
   "mimetype": "text/x-python",
   "name": "python",
   "nbconvert_exporter": "python",
   "pygments_lexer": "ipython3",
   "version": "3.9.12"
  },
  "source_map": [
   13,
   226
  ]
 },
 "nbformat": 4,
 "nbformat_minor": 5
}