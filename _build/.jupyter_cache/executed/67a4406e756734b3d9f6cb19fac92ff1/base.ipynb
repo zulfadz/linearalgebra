{
 "cells": [
  {
   "cell_type": "code",
   "execution_count": 1,
   "id": "5add2bc2",
   "metadata": {
    "tags": [
     "remove-input"
    ]
   },
   "outputs": [
    {
     "name": "stdout",
     "output_type": "stream",
     "text": [
      "Usage: jupyter-book [OPTIONS] COMMAND [ARGS]...\r\n",
      "\r\n",
      "  Build and manage books with Jupyter.\r\n",
      "\r\n",
      "Options:\r\n",
      "  --version   Show the version and exit.\r\n",
      "  -h, --help  Show this message and exit.\r\n",
      "\r\n",
      "Commands:\r\n",
      "  build   Convert your book's or page's content to HTML or a PDF.\r\n",
      "  clean   Empty the _build directory except jupyter_cache.\r\n",
      "  config  Inspect your _config.yml file.\r\n",
      "  create  Create a Jupyter Book template that you can customize.\r\n",
      "  myst    Manipulate MyST markdown files.\r\n",
      "  toc     Command-line for sphinx-external-toc.\r\n"
     ]
    }
   ],
   "source": [
    "!jupyter-book --help"
   ]
  }
 ],
 "metadata": {
  "jupytext": {
   "formats": "md:myst",
   "text_representation": {
    "extension": ".md",
    "format_name": "myst",
    "format_version": 0.12,
    "jupytext_version": "1.6.0"
   }
  },
  "kernelspec": {
   "display_name": "Python 3",
   "language": "python",
   "name": "python3"
  },
  "language_info": {
   "codemirror_mode": {
    "name": "ipython",
    "version": 3
   },
   "file_extension": ".py",
   "mimetype": "text/x-python",
   "name": "python",
   "nbconvert_exporter": "python",
   "pygments_lexer": "ipython3",
   "version": "3.9.12"
  },
  "source_map": [
   13,
   53,
   57
  ]
 },
 "nbformat": 4,
 "nbformat_minor": 5
}