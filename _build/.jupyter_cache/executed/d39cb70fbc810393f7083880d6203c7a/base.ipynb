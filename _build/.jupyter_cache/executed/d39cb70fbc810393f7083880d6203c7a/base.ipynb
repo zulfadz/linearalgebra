{
 "cells": [
  {
   "cell_type": "code",
   "execution_count": 1,
   "id": "56397a85",
   "metadata": {
    "tags": [
     "remove-input"
    ]
   },
   "outputs": [
    {
     "name": "stdout",
     "output_type": "stream",
     "text": [
      "Usage: jupyter-book create [OPTIONS] PATH_BOOK\r\n",
      "\r\n",
      "  Create a Jupyter Book template that you can customize.\r\n",
      "\r\n",
      "Options:\r\n",
      "  --cookiecutter  Use cookiecutter to interactively create a Jupyter Book\r\n",
      "                  template.\r\n",
      "\r\n",
      "  -h, --help      Show this message and exit.\r\n"
     ]
    }
   ],
   "source": [
    "!jupyter-book create --help"
   ]
  },
  {
   "cell_type": "code",
   "execution_count": 2,
   "id": "cb947717",
   "metadata": {
    "tags": [
     "remove-input"
    ]
   },
   "outputs": [
    {
     "name": "stdout",
     "output_type": "stream",
     "text": [
      "Usage: jupyter-book toc to-project [OPTIONS] TOC_FILE\r\n",
      "\r\n",
      "  Create a project directory from a ToC file.\r\n",
      "\r\n",
      "Options:\r\n",
      "  -p, --path DIRECTORY      The root directory [default: ToC file directory].\r\n",
      "  -e, --extension [rst|md]  The default file extension to use.  [default: rst]\r\n",
      "  -o, --overwrite           Overwrite existing files.\r\n",
      "  -h, --help                Show this message and exit.\r\n"
     ]
    }
   ],
   "source": [
    "!jupyter-book toc to-project -h"
   ]
  }
 ],
 "metadata": {
  "jupytext": {
   "formats": "md:myst",
   "text_representation": {
    "extension": ".md",
    "format_name": "myst",
    "format_version": 0.12,
    "jupytext_version": "1.6.0"
   }
  },
  "kernelspec": {
   "display_name": "Python 3",
   "language": "python",
   "name": "python3"
  },
  "language_info": {
   "codemirror_mode": {
    "name": "ipython",
    "version": 3
   },
   "file_extension": ".py",
   "mimetype": "text/x-python",
   "name": "python",
   "nbconvert_exporter": "python",
   "pygments_lexer": "ipython3",
   "version": "3.9.12"
  },
  "source_map": [
   13,
   32,
   35,
   85
  ]
 },
 "nbformat": 4,
 "nbformat_minor": 5
}