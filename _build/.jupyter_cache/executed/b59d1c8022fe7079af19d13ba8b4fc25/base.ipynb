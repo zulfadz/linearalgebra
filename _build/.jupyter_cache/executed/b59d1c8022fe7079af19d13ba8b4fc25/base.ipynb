{
 "cells": [
  {
   "cell_type": "code",
   "execution_count": 1,
   "id": "d0fbab2f",
   "metadata": {},
   "outputs": [
    {
     "data": {
      "text/plain": [
       "'here is some text!'"
      ]
     },
     "metadata": {
      "scrapbook": {
       "mime_prefix": "",
       "name": "cool_text"
      }
     },
     "output_type": "display_data"
    }
   ],
   "source": [
    "from myst_nb import glue\n",
    "my_variable = \"here is some text!\"\n",
    "glue(\"cool_text\", my_variable)"
   ]
  },
  {
   "cell_type": "code",
   "execution_count": 2,
   "id": "0c282bd2",
   "metadata": {
    "tags": [
     "hide-cell"
    ]
   },
   "outputs": [],
   "source": [
    "# Simulate some data and bootstrap the mean of the data\n",
    "import numpy as np\n",
    "import pandas as pd\n",
    "import matplotlib.pyplot as plt\n",
    "\n",
    "n_points = 10000\n",
    "n_boots = 1000\n",
    "mean, sd = (3, .2)\n",
    "data = sd*np.random.randn(n_points) + mean\n",
    "bootstrap_indices = np.random.randint(0, n_points, n_points*n_boots).reshape((n_boots, n_points))"
   ]
  },
  {
   "cell_type": "code",
   "execution_count": 3,
   "id": "e7c2c8d7",
   "metadata": {},
   "outputs": [
    {
     "data": {
      "text/plain": [
       "3.0002792647050733"
      ]
     },
     "metadata": {
      "scrapbook": {
       "mime_prefix": "",
       "name": "boot_mean"
      }
     },
     "output_type": "display_data"
    },
    {
     "data": {
      "text/plain": [
       "2.988124729261021"
      ]
     },
     "metadata": {
      "scrapbook": {
       "mime_prefix": "",
       "name": "boot_clo"
      }
     },
     "output_type": "display_data"
    },
    {
     "data": {
      "text/plain": [
       "3.0127264226602697"
      ]
     },
     "metadata": {
      "scrapbook": {
       "mime_prefix": "",
       "name": "boot_chi"
      }
     },
     "output_type": "display_data"
    }
   ],
   "source": [
    "# Calculate the mean of a bunch of random samples\n",
    "means = data[bootstrap_indices].mean(0)\n",
    "# Calculate the 95% confidence interval for the mean\n",
    "clo, chi = np.percentile(means, [2.5, 97.5])\n",
    "\n",
    "# Store the values in our notebook\n",
    "glue(\"boot_mean\", means.mean())\n",
    "glue(\"boot_clo\", clo)\n",
    "glue(\"boot_chi\", chi)"
   ]
  },
  {
   "cell_type": "code",
   "execution_count": 4,
   "id": "e81ab575",
   "metadata": {},
   "outputs": [
    {
     "data": {
      "application/papermill.record/text/plain": "3.0127264226602697"
     },
     "metadata": {
      "scrapbook": {
       "mime_prefix": "application/papermill.record/",
       "name": "boot_chi_notdisplayed"
      }
     },
     "output_type": "display_data"
    }
   ],
   "source": [
    "glue(\"boot_chi_notdisplayed\", chi, display=False)"
   ]
  },
  {
   "cell_type": "code",
   "execution_count": 5,
   "id": "dd7d611c",
   "metadata": {},
   "outputs": [
    {
     "data": {
      "application/papermill.record/image/png": "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\n",
      "application/papermill.record/text/plain": "<Figure size 432x288 with 1 Axes>"
     },
     "metadata": {
      "scrapbook": {
       "mime_prefix": "application/papermill.record/",
       "name": "boot_fig"
      }
     },
     "output_type": "display_data"
    },
    {
     "data": {
      "application/papermill.record/image/png": "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\n",
      "application/papermill.record/text/plain": "<Figure size 432x144 with 1 Axes>"
     },
     "metadata": {
      "scrapbook": {
       "mime_prefix": "application/papermill.record/",
       "name": "sorted_means_fig"
      }
     },
     "output_type": "display_data"
    },
    {
     "data": {
      "image/png": "[encoded data removed]",
      "text/plain": [
       "<Figure size 432x288 with 1 Axes>"
      ]
     },
     "metadata": {
      "needs_background": "light"
     },
     "output_type": "display_data"
    },
    {
     "data": {
      "image/png": "[encoded data removed]",
      "text/plain": [
       "<Figure size 432x144 with 1 Axes>"
      ]
     },
     "metadata": {
      "needs_background": "light"
     },
     "output_type": "display_data"
    }
   ],
   "source": [
    "# Visualize the histogram with the intervals\n",
    "fig, ax = plt.subplots()\n",
    "ax.hist(means)\n",
    "for ln in [clo, chi]:\n",
    "    ax.axvline(ln, ls='--', c='r')\n",
    "ax.set_title(\"Bootstrap distribution and 95% CI\")\n",
    "\n",
    "# And a wider figure to show a timeseries\n",
    "fig2, ax = plt.subplots(figsize=(6, 2))\n",
    "ax.plot(np.sort(means), lw=3, c='r')\n",
    "ax.set_axis_off()\n",
    "\n",
    "glue(\"boot_fig\", fig, display=False)\n",
    "glue(\"sorted_means_fig\", fig2, display=False)"
   ]
  },
  {
   "cell_type": "code",
   "execution_count": 6,
   "id": "9d312ed3",
   "metadata": {},
   "outputs": [
    {
     "data": {
      "text/html": [
       "<div>\n",
       "<style scoped>\n",
       "    .dataframe tbody tr th:only-of-type {\n",
       "        vertical-align: middle;\n",
       "    }\n",
       "\n",
       "    .dataframe tbody tr th {\n",
       "        vertical-align: top;\n",
       "    }\n",
       "\n",
       "    .dataframe thead th {\n",
       "        text-align: right;\n",
       "    }\n",
       "</style>\n",
       "<table border=\"1\" class=\"dataframe\">\n",
       "  <thead>\n",
       "    <tr style=\"text-align: right;\">\n",
       "      <th></th>\n",
       "      <th>first</th>\n",
       "      <th>second</th>\n",
       "      <th>third</th>\n",
       "    </tr>\n",
       "  </thead>\n",
       "  <tbody>\n",
       "    <tr>\n",
       "      <th>0</th>\n",
       "      <td>3.254183</td>\n",
       "      <td>2.759200</td>\n",
       "      <td>3.125026</td>\n",
       "    </tr>\n",
       "    <tr>\n",
       "      <th>1</th>\n",
       "      <td>3.224861</td>\n",
       "      <td>2.691895</td>\n",
       "      <td>3.286983</td>\n",
       "    </tr>\n",
       "    <tr>\n",
       "      <th>2</th>\n",
       "      <td>3.230790</td>\n",
       "      <td>2.865231</td>\n",
       "      <td>2.811285</td>\n",
       "    </tr>\n",
       "    <tr>\n",
       "      <th>3</th>\n",
       "      <td>3.296647</td>\n",
       "      <td>2.791874</td>\n",
       "      <td>3.327421</td>\n",
       "    </tr>\n",
       "    <tr>\n",
       "      <th>4</th>\n",
       "      <td>3.159342</td>\n",
       "      <td>3.066524</td>\n",
       "      <td>3.037122</td>\n",
       "    </tr>\n",
       "  </tbody>\n",
       "</table>\n",
       "</div>"
      ],
      "text/plain": [
       "      first    second     third\n",
       "0  3.254183  2.759200  3.125026\n",
       "1  3.224861  2.691895  3.286983\n",
       "2  3.230790  2.865231  2.811285\n",
       "3  3.296647  2.791874  3.327421\n",
       "4  3.159342  3.066524  3.037122"
      ]
     },
     "metadata": {
      "scrapbook": {
       "mime_prefix": "",
       "name": "df_tbl"
      }
     },
     "output_type": "display_data"
    }
   ],
   "source": [
    "bootstrap_subsets = data[bootstrap_indices][:3, :5].T\n",
    "df = pd.DataFrame(bootstrap_subsets, columns=[\"first\", \"second\", \"third\"])\n",
    "glue(\"df_tbl\", df)"
   ]
  },
  {
   "cell_type": "code",
   "execution_count": 7,
   "id": "f27b4df0",
   "metadata": {},
   "outputs": [
    {
     "data": {
      "text/latex": [
       "$\\displaystyle \\left(\\sqrt{5} i\\right)^{\\alpha} \\left(\\frac{1}{2} - \\frac{2 \\sqrt{5} i}{5}\\right) + \\left(- \\sqrt{5} i\\right)^{\\alpha} \\left(\\frac{1}{2} + \\frac{2 \\sqrt{5} i}{5}\\right)$"
      ],
      "text/plain": [
       "(sqrt(5)*I)**\\alpha*(1/2 - 2*sqrt(5)*I/5) + (-sqrt(5)*I)**\\alpha*(1/2 + 2*sqrt(5)*I/5)"
      ]
     },
     "metadata": {
      "scrapbook": {
       "mime_prefix": "",
       "name": "sym_eq"
      }
     },
     "output_type": "display_data"
    }
   ],
   "source": [
    "import sympy as sym\n",
    "f = sym.Function('f')\n",
    "y = sym.Function('y')\n",
    "n = sym.symbols(r'\\alpha')\n",
    "f = y(n)-2*y(n-1/sym.pi)-5*y(n-2)\n",
    "glue(\"sym_eq\", sym.rsolve(f,y(n),[1,4]))"
   ]
  }
 ],
 "metadata": {
  "jupytext": {
   "text_representation": {
    "extension": ".md",
    "format_name": "myst"
   }
  },
  "kernelspec": {
   "display_name": "Python 3",
   "language": "python",
   "name": "python3"
  },
  "language_info": {
   "codemirror_mode": {
    "name": "ipython",
    "version": 3
   },
   "file_extension": ".py",
   "mimetype": "text/x-python",
   "name": "python",
   "nbconvert_exporter": "python",
   "pygments_lexer": "ipython3",
   "version": "3.9.12"
  },
  "source_map": [
   10,
   42,
   54,
   58,
   73,
   86,
   91,
   101,
   108,
   110,
   114,
   129,
   133,
   137,
   145,
   155,
   200,
   213,
   239,
   274,
   297,
   306,
   313,
   336
  ]
 },
 "nbformat": 4,
 "nbformat_minor": 5
}