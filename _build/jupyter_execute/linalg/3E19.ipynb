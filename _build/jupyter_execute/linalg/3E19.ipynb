{
 "cells": [
  {
   "cell_type": "markdown",
   "id": "cd4840c0",
   "metadata": {},
   "source": [
    "(myst-content/proofs-algorithms)=\n",
    "# Problem 12: Analogous statement from direct sum to finite sets\n",
    "\n",
    "```{admonition} Problem 12\n",
    "Find a correct statement analogous to Statement 3.78 of Axler (below) that is applicable to finite sets, with unions analogous to sums of subspaces and disjoint unions analogous to direct sums:\n",
    "\n",
    "$U_{1} + \\cdots + U_{m}$ is a direct sum iff $\\text{dim }(U_{1} + \\cdots + U_{m}) = \\text{dim }U_{1} + \\cdots + \\text{dim }U_{m}.$\n",
    "```\n",
    "\n",
    "\n",
    "\n",
    "```{admonition} Solution\n",
    ":class: hint, dropdown\n",
    "\n",
    "![3E19](../images/3E19.pdf)\n",
    "\n",
    "```\n",
    "\n",
    "\n",
    "_Source: Axler (3rd edition):  Exercise 3E19._"
   ]
  }
 ],
 "metadata": {
  "jupytext": {
   "text_representation": {
    "extension": ".md",
    "format_name": "myst"
   }
  },
  "kernelspec": {
   "display_name": "Python 3",
   "language": "python",
   "name": "python3"
  },
  "language_info": {
   "codemirror_mode": {
    "name": "ipython",
    "version": 3
   },
   "file_extension": ".py",
   "mimetype": "text/x-python",
   "name": "python",
   "nbconvert_exporter": "python",
   "pygments_lexer": "ipython3",
   "version": "3.9.12"
  },
  "source_map": [
   10
  ]
 },
 "nbformat": 4,
 "nbformat_minor": 5
}