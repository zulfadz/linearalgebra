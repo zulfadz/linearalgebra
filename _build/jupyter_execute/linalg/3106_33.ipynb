{
 "cells": [
  {
   "cell_type": "markdown",
   "id": "dd1bc8a0",
   "metadata": {},
   "source": [
    "(myst-content/proofs-algorithms)=\n",
    "# Problem 33: Dimension of  the annihilator\n",
    "\n",
    "```{admonition} Problem 33\n",
    "Suppose $V$ is finite-dimensional and $U$ is a subspace of $V.$ Then\n",
    "\n",
    "$\\text{dim }U+\\text{dim }U^{0} = \\text{dim }V.$\n",
    "```\n",
    "\n",
    "\n",
    "\n",
    "```{admonition} Solution\n",
    ":class: hint, dropdown\n",
    "\n",
    "![3106a](../images/3106a.pdf)\n",
    "![3106b](../images/3106b.pdf)\n",
    "```\n",
    "\n",
    "\n",
    "_Source: Axler (3rd edition):  Statement 3.106._"
   ]
  }
 ],
 "metadata": {
  "jupytext": {
   "text_representation": {
    "extension": ".md",
    "format_name": "myst"
   }
  },
  "kernelspec": {
   "display_name": "Python 3",
   "language": "python",
   "name": "python3"
  },
  "language_info": {
   "codemirror_mode": {
    "name": "ipython",
    "version": 3
   },
   "file_extension": ".py",
   "mimetype": "text/x-python",
   "name": "python",
   "nbconvert_exporter": "python",
   "pygments_lexer": "ipython3",
   "version": "3.9.12"
  },
  "source_map": [
   10
  ]
 },
 "nbformat": 4,
 "nbformat_minor": 5
}