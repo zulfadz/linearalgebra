{
 "cells": [
  {
   "cell_type": "markdown",
   "id": "cacb2e68",
   "metadata": {},
   "source": [
    "(myst-content/proofs-algorithms)=\n",
    "# Problem 1: Linear map takes zero vector to zero vector\n",
    "\n",
    "```{admonition} Problem 1\n",
    "\n",
    "Let $T: V \\rightarrow W$ be a linear map from vector space $V$ to $W$. Then\n",
    "\n",
    "```{math}\n",
    "T(0_{V})=0_{W}.\n",
    "\n",
    "```\n",
    "\n",
    "```{admonition} Solution\n",
    ":class: hint, dropdown\n",
    "\n",
    "$0_{V} + 0_{V} = 0_{V},$ by definition of additive identity.\n",
    "\n",
    "Thus, $T(0_{V} + 0_{V}) = T(0_{V})$ which is equal to $T(0_{V}) + T(0_{V}) = T(0_{V})$ given linearity of $T.$\n",
    "\n",
    "Adding $-T(0_{V})$ on both sides yields $T(0_{V}) = 0_{W}.$\n",
    "\n",
    "```\n",
    "\n",
    "\n",
    "_Source: Axler (3rd edition):  Statement 3.11 ._"
   ]
  }
 ],
 "metadata": {
  "jupytext": {
   "text_representation": {
    "extension": ".md",
    "format_name": "myst"
   }
  },
  "kernelspec": {
   "display_name": "Python 3",
   "language": "python",
   "name": "python3"
  },
  "language_info": {
   "codemirror_mode": {
    "name": "ipython",
    "version": 3
   },
   "file_extension": ".py",
   "mimetype": "text/x-python",
   "name": "python",
   "nbconvert_exporter": "python",
   "pygments_lexer": "ipython3",
   "version": "3.9.12"
  },
  "source_map": [
   10
  ]
 },
 "nbformat": 4,
 "nbformat_minor": 5
}