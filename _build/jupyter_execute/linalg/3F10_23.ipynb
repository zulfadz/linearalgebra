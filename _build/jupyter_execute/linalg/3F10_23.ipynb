{
 "cells": [
  {
   "cell_type": "markdown",
   "id": "133036dd",
   "metadata": {},
   "source": [
    "(myst-content/proofs-algorithms)=\n",
    "# Problem 23: Algebraic properties of dual maps\n",
    "\n",
    "```{admonition} Problem 23\n",
    "Prove the following algebraic properties of dual maps\n",
    "\n",
    "a) $(S+T)^{\\prime} = S^{\\prime} + T^{\\prime}$, for all $S,T \\in \\mathcal{L}(V,W).$\n",
    "\n",
    "b) $(\\lambda T)^{\\prime} = \\lambda T^{\\prime}$ for all $\\lambda \\in \\mathbb F$ and all $T \\in \\mathcal{L}(V,W).$\n",
    "```\n",
    "\n",
    "\n",
    "\n",
    "```{admonition} Solution\n",
    ":class: hint, dropdown\n",
    "\n",
    "![3F10](../images/3F10.pdf)\n",
    "\n",
    "\n",
    "```\n",
    "\n",
    "\n",
    "_Source: Axler (3rd edition):  Exercise 3F10._"
   ]
  }
 ],
 "metadata": {
  "jupytext": {
   "text_representation": {
    "extension": ".md",
    "format_name": "myst"
   }
  },
  "kernelspec": {
   "display_name": "Python 3",
   "language": "python",
   "name": "python3"
  },
  "language_info": {
   "codemirror_mode": {
    "name": "ipython",
    "version": 3
   },
   "file_extension": ".py",
   "mimetype": "text/x-python",
   "name": "python",
   "nbconvert_exporter": "python",
   "pygments_lexer": "ipython3",
   "version": "3.9.12"
  },
  "source_map": [
   10
  ]
 },
 "nbformat": 4,
 "nbformat_minor": 5
}