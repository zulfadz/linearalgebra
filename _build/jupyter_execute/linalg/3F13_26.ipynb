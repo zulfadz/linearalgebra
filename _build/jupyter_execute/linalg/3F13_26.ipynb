{
 "cells": [
  {
   "cell_type": "markdown",
   "id": "7eab4b7a",
   "metadata": {},
   "source": [
    "(myst-content/proofs-algorithms)=\n",
    "# Problem 26: Application of problem 22\n",
    "\n",
    "```{admonition} Problem 26\n",
    "Define $T: \\mathbb{R}^{3} \\rightarrow \\mathbb{R}^{2}$ by $T(x,y,z) = (4x +5y+6z, 7x+8y+9z).$ Suppose $\\phi_{1}, \\phi_{2}$ denotes the dual basis of the standard basis of $\\mathbb{R}^{2}$ and $\\Psi_{1}, \\Psi_{2}, \\Psi_{3}$ denotes the dual basis of the standard basis of $\\mathbb{R}^{3}.$\n",
    "\n",
    "a) Describe the linear functionals $T^{\\prime}(\\phi_{1})$ and $T^{\\prime}(\\phi_{2}).$\n",
    "\n",
    "b) Write $T^{\\prime}(\\phi_{1})$ and $T^{\\prime}(\\phi_{2})$ as linear combinations of $\\Psi_{1}, \\Psi_{2}, \\Psi_{3}.$\n",
    "```\n",
    "\n",
    "\n",
    "\n",
    "```{admonition} Solution\n",
    ":class: hint, dropdown\n",
    "\n",
    "![3F13a](../images/3F13a.pdf)\n",
    "![3F13b](../images/3F13b.pdf)\n",
    "![3F13c](../images/3F13c.pdf)\n",
    "```\n",
    "\n",
    "\n",
    "_Source: Axler (3rd edition):  Exercise 3F13._"
   ]
  }
 ],
 "metadata": {
  "jupytext": {
   "text_representation": {
    "extension": ".md",
    "format_name": "myst"
   }
  },
  "kernelspec": {
   "display_name": "Python 3",
   "language": "python",
   "name": "python3"
  },
  "language_info": {
   "codemirror_mode": {
    "name": "ipython",
    "version": 3
   },
   "file_extension": ".py",
   "mimetype": "text/x-python",
   "name": "python",
   "nbconvert_exporter": "python",
   "pygments_lexer": "ipython3",
   "version": "3.9.12"
  },
  "source_map": [
   10
  ]
 },
 "nbformat": 4,
 "nbformat_minor": 5
}