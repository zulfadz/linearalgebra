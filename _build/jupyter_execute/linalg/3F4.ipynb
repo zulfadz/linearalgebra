{
 "cells": [
  {
   "cell_type": "markdown",
   "id": "c0687082",
   "metadata": {},
   "source": [
    "(myst-content/proofs-algorithms)=\n",
    "# Problem 17: Given subspace $U \\neq V$, there exists $\\phi \\in V^{\\prime}$ such that $\\phi(u) =0$ but $\\phi \\neq 0$\n",
    "\n",
    "```{admonition} Problem 17\n",
    "Suppose $V$ is finite-dimensional and $U$ is a subspace of $V$ such that $U \\neq V.$ Prove that there exists $\\phi \\in V^{\\prime}$ such that $\\phi(u) =0$ for every $u\\in U$ but  $\\phi \\neq 0.$\n",
    "\n",
    "```\n",
    "\n",
    "\n",
    "\n",
    "```{admonition} Solution\n",
    ":class: hint, dropdown\n",
    "\n",
    "![3F4](../images/3F4.pdf)\n",
    "\n",
    "\n",
    "```\n",
    "\n",
    "\n",
    "_Source: Axler (3rd edition):  Exercise 3F4._"
   ]
  }
 ],
 "metadata": {
  "jupytext": {
   "text_representation": {
    "extension": ".md",
    "format_name": "myst"
   }
  },
  "kernelspec": {
   "display_name": "Python 3",
   "language": "python",
   "name": "python3"
  },
  "language_info": {
   "codemirror_mode": {
    "name": "ipython",
    "version": 3
   },
   "file_extension": ".py",
   "mimetype": "text/x-python",
   "name": "python",
   "nbconvert_exporter": "python",
   "pygments_lexer": "ipython3",
   "version": "3.9.12"
  },
  "source_map": [
   10
  ]
 },
 "nbformat": 4,
 "nbformat_minor": 5
}