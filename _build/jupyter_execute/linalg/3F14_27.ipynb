{
 "cells": [
  {
   "cell_type": "markdown",
   "id": "7036e0fd",
   "metadata": {},
   "source": [
    "(myst-content/proofs-algorithms)=\n",
    "# Problem 27: Dual map applications\n",
    "\n",
    "```{admonition} Problem 27\n",
    "Define $T: \\mathcal{P}(\\mathbb{R})^{\\prime} \\rightarrow \\mathcal{P}(\\mathbb{R})^{\\prime}$ by $(Tp)(x) = x^{2}p(x) + p^{\\prime\\prime}(x)$ for $x\\in \\mathbb{R}.$ \n",
    "\n",
    "a) Suppose $\\phi \\in \\mathcal{P}(\\mathbb{R})^{\\prime}$ is defined by $\\phi(p) = p^{\\prime}(4).$ Describe the linear functional $T^{\\prime}(\\phi)$ on $\\mathcal{P}(\\mathbb{R}).$\n",
    "\n",
    "b) Suppose $\\phi \\in \\mathcal{P}(\\mathbb{R})^{\\prime}$ is defined by $\\phi(p) =\\int_{0}^{1}p(x)\\,dx.$ Evaluate $(T^{\\prime}(\\phi))(x^{3}).$ \n",
    "```\n",
    "\n",
    "\n",
    "\n",
    "```{admonition} Solution\n",
    ":class: hint, dropdown\n",
    "\n",
    "![3F14](../images/3F14.pdf)\n",
    "```\n",
    "\n",
    "\n",
    "_Source: Axler (3rd edition):  Exercise 3F14._"
   ]
  }
 ],
 "metadata": {
  "jupytext": {
   "text_representation": {
    "extension": ".md",
    "format_name": "myst"
   }
  },
  "kernelspec": {
   "display_name": "Python 3",
   "language": "python",
   "name": "python3"
  },
  "language_info": {
   "codemirror_mode": {
    "name": "ipython",
    "version": 3
   },
   "file_extension": ".py",
   "mimetype": "text/x-python",
   "name": "python",
   "nbconvert_exporter": "python",
   "pygments_lexer": "ipython3",
   "version": "3.9.12"
  },
  "source_map": [
   10
  ]
 },
 "nbformat": 4,
 "nbformat_minor": 5
}