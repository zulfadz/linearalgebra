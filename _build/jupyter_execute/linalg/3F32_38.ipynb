{
 "cells": [
  {
   "cell_type": "markdown",
   "id": "e4d9c57b",
   "metadata": {},
   "source": [
    "(myst-content/proofs-algorithms)=\n",
    "# Problem 38: Invertible linear operator, and matrix of linear operator\n",
    "\n",
    "\n",
    "\n",
    "```{admonition} Problem 38\n",
    "Suppose $T\\in\\mathcal{L}$ and $u_1,\\dots,u_n$ and $v_1,\\dots,v_n$ are bases of $V$.  Prove that the following are equivalent:\n",
    "\n",
    "a) $T$ is invertible.\n",
    "\n",
    "b) The columns of $\\mathcal{M}$ are linearly independent in $\\mathbb{F}^{n,1}$. \n",
    "\n",
    "c) The columns of $\\mathcal{M}$ span $\\mathbb{F}^{n,1}$.\n",
    "\n",
    "d) The rows of $\\mathcal{M}$ are linearly independent in $\\mathbb{F}^{1,n}$.\n",
    "\n",
    "e) The rows of $\\mathcal{M}$ span $\\mathbb{F}^{1,n}$.\n",
    "\n",
    "Here $\\mathcal{M}(T)$ means $\\mathcal{M}(T,(u_1,\\dots,u_n),(v_1,\\dots,v_n))$.\n",
    "```\n",
    "\n",
    "\n",
    "\n",
    "```{admonition} Solution\n",
    ":class: hint, dropdown\n",
    "\n",
    "![3F32ba](../images/3F32ba.pdf)\n",
    "![3F32ab](../images/3F32ab.pdf)\n",
    "![3F32b](../images/3F32b.pdf)\n",
    "![3F32c](../images/3F32c.pdf)\n",
    "```\n",
    "\n",
    "\n",
    "_Source: Axler (3rd edition):  Excercise 3F32._"
   ]
  }
 ],
 "metadata": {
  "jupytext": {
   "text_representation": {
    "extension": ".md",
    "format_name": "myst"
   }
  },
  "kernelspec": {
   "display_name": "Python 3",
   "language": "python",
   "name": "python3"
  },
  "language_info": {
   "codemirror_mode": {
    "name": "ipython",
    "version": 3
   },
   "file_extension": ".py",
   "mimetype": "text/x-python",
   "name": "python",
   "nbconvert_exporter": "python",
   "pygments_lexer": "ipython3",
   "version": "3.9.12"
  },
  "source_map": [
   10
  ]
 },
 "nbformat": 4,
 "nbformat_minor": 5
}