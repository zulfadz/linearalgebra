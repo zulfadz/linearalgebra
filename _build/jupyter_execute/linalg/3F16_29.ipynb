{
 "cells": [
  {
   "cell_type": "markdown",
   "id": "ef71318e",
   "metadata": {},
   "source": [
    "(myst-content/proofs-algorithms)=\n",
    "# Problem 29: Isomorphism of $\\mathcal{L}(V,W)$ onto $\\mathcal{L} (W^{\\prime}, V^{\\prime})$\n",
    "\n",
    "```{admonition} Problem 29\n",
    "Suppose $V$ and $W$ are finite-dimensional. Prove that the map that takes $T\\in \\mathcal{L}(V,W)$ to $T^{\\prime} \\in \\mathcal{L} (W^{\\prime}, V^{\\prime})$ is an isomorphism of $\\mathcal{L}(V,W)$ onto $\\mathcal{L} (W^{\\prime}, V^{\\prime}).$\n",
    "```\n",
    "\n",
    "\n",
    "\n",
    "```{admonition} Solution\n",
    ":class: hint, dropdown\n",
    "\n",
    "![3F16a](../images/3F16a.pdf)\n",
    "![3F16b](../images/3F16b.pdf)\n",
    "```\n",
    "\n",
    "\n",
    "_Source: Axler (3rd edition):  Exercise 3F16._"
   ]
  }
 ],
 "metadata": {
  "jupytext": {
   "text_representation": {
    "extension": ".md",
    "format_name": "myst"
   }
  },
  "kernelspec": {
   "display_name": "Python 3",
   "language": "python",
   "name": "python3"
  },
  "language_info": {
   "codemirror_mode": {
    "name": "ipython",
    "version": 3
   },
   "file_extension": ".py",
   "mimetype": "text/x-python",
   "name": "python",
   "nbconvert_exporter": "python",
   "pygments_lexer": "ipython3",
   "version": "3.9.12"
  },
  "source_map": [
   10
  ]
 },
 "nbformat": 4,
 "nbformat_minor": 5
}