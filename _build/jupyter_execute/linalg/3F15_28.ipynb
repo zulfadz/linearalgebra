{
 "cells": [
  {
   "cell_type": "markdown",
   "id": "a77c121f",
   "metadata": {},
   "source": [
    "(myst-content/proofs-algorithms)=\n",
    "# Problem 28: $T^{\\prime}=0$ if and only if $T=0$\n",
    "\n",
    "```{admonition} Problem 28\n",
    "Suppose $W$ is finite-dimensional and $T\\in \\mathcal{L}(V,W).$ Prove that $T^{\\prime}=0$ if and only if $T=0.$\n",
    "```\n",
    "\n",
    "\n",
    "\n",
    "```{admonition} Solution\n",
    ":class: hint, dropdown\n",
    "\n",
    "![3F15a](../images/3F15a.pdf)\n",
    "![3F15b](../images/3F15b.pdf)\n",
    "```\n",
    "\n",
    "\n",
    "_Source: Axler (3rd edition):  Exercise 3F15._"
   ]
  }
 ],
 "metadata": {
  "jupytext": {
   "text_representation": {
    "extension": ".md",
    "format_name": "myst"
   }
  },
  "kernelspec": {
   "display_name": "Python 3",
   "language": "python",
   "name": "python3"
  },
  "language_info": {
   "codemirror_mode": {
    "name": "ipython",
    "version": 3
   },
   "file_extension": ".py",
   "mimetype": "text/x-python",
   "name": "python",
   "nbconvert_exporter": "python",
   "pygments_lexer": "ipython3",
   "version": "3.9.12"
  },
  "source_map": [
   10
  ]
 },
 "nbformat": 4,
 "nbformat_minor": 5
}