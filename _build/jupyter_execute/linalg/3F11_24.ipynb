{
 "cells": [
  {
   "cell_type": "markdown",
   "id": "94ccd2f6",
   "metadata": {},
   "source": [
    "(myst-content/proofs-algorithms)=\n",
    "# Problem 24: Matrices with rank 1 can be decomposed into elements of $\\mathbb{F}^{m}$ and $\\mathbb{F}^{n}$\n",
    "\n",
    "```{admonition} Problem 24\n",
    "Suppose $A$ is an $m$-by-$n$ matrix with $A \\neq 0$. Prove that the rank of $A$ is $1$ if and only if there exists $(c_{1},\\cdots, c_{m}) \\in \\mathbb{F}^{m}$ and $(d_{1},\\cdots, d_{n}) \\in \\mathbb{F}^{n}$ such that $A_{j,k} = c_{j}d_{k}$ for every $j =1, \\cdots, m$ and every $k = 1, \\cdots, n$. \n",
    "```\n",
    "\n",
    "\n",
    "\n",
    "```{admonition} Solution\n",
    ":class: hint, dropdown\n",
    "\n",
    "![3F11a](../images/3F11a.pdf)\n",
    "![3F11b](../images/3F11b.pdf)\n",
    "![3F11c](../images/3F11c.pdf)\n",
    "```\n",
    "\n",
    "\n",
    "_Source: Axler (3rd edition):  Exercise 3F11._"
   ]
  }
 ],
 "metadata": {
  "jupytext": {
   "text_representation": {
    "extension": ".md",
    "format_name": "myst"
   }
  },
  "kernelspec": {
   "display_name": "Python 3",
   "language": "python",
   "name": "python3"
  },
  "language_info": {
   "codemirror_mode": {
    "name": "ipython",
    "version": 3
   },
   "file_extension": ".py",
   "mimetype": "text/x-python",
   "name": "python",
   "nbconvert_exporter": "python",
   "pygments_lexer": "ipython3",
   "version": "3.9.12"
  },
  "source_map": [
   10
  ]
 },
 "nbformat": 4,
 "nbformat_minor": 5
}