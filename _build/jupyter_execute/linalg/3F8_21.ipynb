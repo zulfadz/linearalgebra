{
 "cells": [
  {
   "cell_type": "markdown",
   "id": "185cb29a",
   "metadata": {},
   "source": [
    "(myst-content/proofs-algorithms)=\n",
    "# Problem 21: Another dual basis of polynomial\n",
    "\n",
    "```{admonition} Problem 21\n",
    "Suppose $m$ is a positive integer.\n",
    "\n",
    "a) Show that $1, x-5, \\cdots, (x-5)^{m}$ is a basis of  $\\mathcal{P}_m(\\mathbb{R})$.\n",
    "\n",
    "b) What is the dual basis of the basis in part (a)?\n",
    "```\n",
    "\n",
    "\n",
    "\n",
    "```{admonition} Solution\n",
    ":class: hint, dropdown\n",
    "\n",
    "![3F8a](../images/3F8a.pdf)\n",
    "![3F8b](../images/3F8b.pdf)\n",
    "\n",
    "\n",
    "```\n",
    "\n",
    "\n",
    "_Source: Axler (3rd edition):  Exercise 3F8._"
   ]
  }
 ],
 "metadata": {
  "jupytext": {
   "text_representation": {
    "extension": ".md",
    "format_name": "myst"
   }
  },
  "kernelspec": {
   "display_name": "Python 3",
   "language": "python",
   "name": "python3"
  },
  "language_info": {
   "codemirror_mode": {
    "name": "ipython",
    "version": 3
   },
   "file_extension": ".py",
   "mimetype": "text/x-python",
   "name": "python",
   "nbconvert_exporter": "python",
   "pygments_lexer": "ipython3",
   "version": "3.9.12"
  },
  "source_map": [
   10
  ]
 },
 "nbformat": 4,
 "nbformat_minor": 5
}