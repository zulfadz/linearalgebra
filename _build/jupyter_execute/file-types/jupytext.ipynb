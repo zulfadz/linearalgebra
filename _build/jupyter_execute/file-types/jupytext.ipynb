{
 "cells": [
  {
   "cell_type": "markdown",
   "id": "6e77efa6",
   "metadata": {
    "lines_to_next_cell": 0
   },
   "source": [
    "(file-types:custom)=\n",
    "# Custom notebook formats and Jupytext\n",
    "\n",
    "You can designate additional file types to be converted to notebooks and then executed/parsed in the same manner as regular notebooks.\n",
    "\n",
    ":::{tip}\n",
    "This page itself is written as an [RMarkdown](https://rmarkdown.rstudio.com/) notebook!\n",
    ":::\n",
    "\n",
    "```yaml\n",
    "sphinx:\n",
    "  config:\n",
    "    nb_custom_formats:\n",
    "        .mysuffix: mylibrary.converter_function\n",
    "```\n",
    "\n",
    "- The string should be a Python function that will be loaded by `import mylibrary.converter_function`\n",
    "- The function should take a file's contents (as a `str`) and return an [nbformat.NotebookNode](nbformat:api)\n",
    "\n",
    "If the function takes additional keyword arguments, then you can specify these as a dictionary in a second argument.\n",
    "For example this is what the default conversion would look like:\n",
    "\n",
    "```yaml\n",
    "sphinx:\n",
    "  config:\n",
    "    nb_custom_formats:\n",
    "        .ipynb:\n",
    "            - nbformat.reads\n",
    "            - as_version: 4\n",
    "```\n",
    "\n",
    ":::{important}\n",
    "\n",
    "By default, Markdown cells in the notebook will be parsed using the same MyST parser configuration as for other Markdown files.\n",
    "\n",
    "But, if this is incompatible with your file format, then you can specify for the Markdown to be parsed as **strictly CommonMark**, using a third argument:\n",
    "\n",
    "```yaml\n",
    "sphinx:\n",
    "  config:\n",
    "    nb_custom_formats:\n",
    "        .ipynb:\n",
    "            - nbformat.reads\n",
    "            - as_version: 4\n",
    "            - true\n",
    "```\n",
    "\n",
    ":::\n",
    "\n",
    "Finally, for text-based formats, MyST-NB also searches for an optional `source_map` key in the output notebook's metadata.\n",
    "This key should be a list mapping each cell to the starting line number in the original source file, for example for a notebook with three cells:\n",
    "\n",
    "```json\n",
    "{\n",
    "  \"metadata\": {\n",
    "    \"source_map\": [10, 21, 53]\n",
    "  }\n",
    "}\n",
    "```\n",
    "\n",
    "This mapping allows for \"true\" error reporting, as described in [](myst-nb:myst/error-reporting).\n",
    "\n",
    "## Using Jupytext\n",
    "\n",
    "[Jupytext](https://jupytext.readthedocs.io/en/latest/) is an excellent Python tool for two-way conversion\n",
    "between Jupyter Notebook `.ipynb` files and\n",
    "[a variety of text-based files](https://jupytext.readthedocs.io/en/latest/formats.html).\n",
    "\n",
    "Jupyter Book natively supports the Jupytext file format: [notebooks with MyST Markdown](./myst-notebooks.md).\n",
    "\n",
    "You can also add other formats like [RMarkdown](https://rmarkdown.rstudio.com/) or Python files.\n",
    "To do so, first ensure Jupytext is installed:\n",
    "\n",
    "```console\n",
    "$ pip install jupytext\n",
    "```\n",
    "\n",
    "Then configure Jupyter book like so:\n",
    "\n",
    "```yaml\n",
    "sphinx:\n",
    "  config:\n",
    "    nb_custom_formats:\n",
    "        .Rmd:\n",
    "            - jupytext.reads\n",
    "            - fmt: Rmd\n",
    "```\n",
    "\n",
    ":::{warning}\n",
    "Note that some execution features (such as in-line code execution in RMarkdown) are not available in Jupyter Book.\n",
    ":::\n",
    "\n",
    "Now you can use RMarkdown blocks:\n",
    "\n",
    "    ```{python echo=TRUE}\n",
    "    print(\"Hallo I'm an RMarkdown block!\")\n",
    "    ```\n"
   ]
  },
  {
   "cell_type": "code",
   "execution_count": 1,
   "id": "537a06dd",
   "metadata": {
    "echo": true,
    "lines_to_next_cell": 2
   },
   "outputs": [
    {
     "name": "stdout",
     "output_type": "stream",
     "text": [
      "Hallo I'm an RMarkdown block!\n"
     ]
    }
   ],
   "source": [
    "print(\"Hallo I'm an RMarkdown block!\")"
   ]
  },
  {
   "cell_type": "markdown",
   "id": "96b61519",
   "metadata": {},
   "source": [
    "(file-types:custom:jupytext)=\n",
    "## Convert a Jupytext file into a MyST notebook\n",
    "\n",
    "Alternatively, if you'd like to convert your pre-existing Jupytext files into the MyST notebook format,\n",
    "to use directly in your book, install Jupytext and then run the following command:\n",
    "\n",
    "```bash\n",
    "jupytext --to myst path/to/yourfile\n",
    "```\n",
    "\n",
    "Note that you may also pass a wildcard that will be used to convert multiple\n",
    "files. For example:\n",
    "\n",
    "```bash\n",
    "jupytext --to myst ./*.py\n",
    "```\n",
    "\n",
    "See [the Jupytext CLI documentation](https://jupytext.readthedocs.io/en/latest/using-cli.html) for more information."
   ]
  }
 ],
 "metadata": {
  "jupytext": {
   "text_representation": {
    "extension": ".Rmd",
    "format_name": "rmarkdown"
   }
  },
  "kernelspec": {
   "display_name": "Python",
   "language": "python",
   "name": "python3"
  },
  "language_info": {
   "codemirror_mode": {
    "name": "ipython",
    "version": 3
   },
   "file_extension": ".py",
   "mimetype": "text/x-python",
   "name": "python",
   "nbconvert_exporter": "python",
   "pygments_lexer": "ipython3",
   "version": "3.9.12"
  }
 },
 "nbformat": 4,
 "nbformat_minor": 5
}